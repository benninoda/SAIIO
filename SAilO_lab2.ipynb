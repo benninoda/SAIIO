{
 "cells": [
  {
   "cell_type": "code",
   "execution_count": 2,
   "id": "92542544",
   "metadata": {},
   "outputs": [],
   "source": [
    "import scipy.optimize as opt\n",
    "import scipy.linalg as sla\n",
    "import math\n",
    "import numpy as np\n",
    "import pprint\n",
    "import random\n",
    "\n",
    "from IPython.display import display, Math, Latex"
   ]
  },
  {
   "cell_type": "code",
   "execution_count": 3,
   "id": "e78a1d8c",
   "metadata": {},
   "outputs": [],
   "source": [
    "inverse = lambda A: sla.solve(A, np.eye(A.shape[0]))"
   ]
  },
  {
   "cell_type": "code",
   "execution_count": 4,
   "id": "198cbef0",
   "metadata": {},
   "outputs": [],
   "source": [
    "def numpy_to_pmatrix(a):\n",
    "    lines = str(a).replace('[', '').replace(']', '').splitlines()\n",
    "    rv = [r'\\begin{pmatrix}']\n",
    "    rv += ['  ' + ' & '.join(l.split()) + r'\\\\' for l in lines]\n",
    "    rv +=  [r'\\end{pmatrix}']\n",
    "    return '\\n'.join(rv)"
   ]
  },
  {
   "cell_type": "code",
   "execution_count": 5,
   "id": "d53124e6",
   "metadata": {},
   "outputs": [],
   "source": [
    "def is_float_vector(x):\n",
    "    for idx, x_i in enumerate(x):\n",
    "        if not math.isclose(x_i, math.floor(x_i)):\n",
    "            return x_i, idx\n",
    "    else:\n",
    "        return None, None"
   ]
  },
  {
   "cell_type": "code",
   "execution_count": 6,
   "id": "0da94651",
   "metadata": {},
   "outputs": [],
   "source": [
    "def is_float_vector_2(x):\n",
    "    float_values = []\n",
    "    for idx, x_i in enumerate(x):\n",
    "        if not math.isclose(x_i, math.floor(x_i)):\n",
    "            float_values.append((x_i, idx))\n",
    "    if float_values:\n",
    "        a = random.choice(float_values)\n",
    "        print(a)\n",
    "        return a\n",
    "    else:\n",
    "        return None, None"
   ]
  },
  {
   "cell_type": "code",
   "execution_count": 7,
   "id": "21e6b350",
   "metadata": {},
   "outputs": [],
   "source": [
    "def get_basis_and_non_basis(x):\n",
    "    basis = []\n",
    "    non_basis = []\n",
    "    for idx, x_i in enumerate(x):\n",
    "        basis.append(idx) if x_i else non_basis.append(idx)\n",
    "    return np.array(basis), np.array(non_basis)"
   ]
  },
  {
   "cell_type": "code",
   "execution_count": 8,
   "id": "11938169",
   "metadata": {},
   "outputs": [],
   "source": [
    "def get_new_condition(l, basis, size):\n",
    "    new_line = []\n",
    "    idx = 0\n",
    "    for i in range(size):\n",
    "        if i in basis:\n",
    "            new_line.append(l[idx])\n",
    "            idx += 1\n",
    "        else:\n",
    "            new_line.append(0)\n",
    "    else:\n",
    "        new_line.append(-1)\n",
    "    return np.array(new_line)"
   ]
  },
  {
   "cell_type": "code",
   "execution_count": 9,
   "id": "d533a8d4",
   "metadata": {},
   "outputs": [],
   "source": [
    "def frac(x):\n",
    "    print(x)\n",
    "    return np.array([x_i - math.floor(x_i) for x_i in x.ravel()])"
   ]
  },
  {
   "cell_type": "code",
   "execution_count": 10,
   "id": "0de14291",
   "metadata": {},
   "outputs": [],
   "source": [
    "def solve(A, c, b):\n",
    "    need_size = c.size\n",
    "    while True:\n",
    "        resolved = opt.linprog(c=c, A_eq=A, b_eq=b, method='simplex')\n",
    "        \n",
    "        if resolved.success == False:\n",
    "            display(Math(r'\\text{Данная задача ILP: }\\\\A = '  + numpy_to_pmatrix(A)))\n",
    "            display(Math(r'b = '  + numpy_to_pmatrix(b)))\n",
    "            display(Math(r'c = '  + numpy_to_pmatrix(c)))\n",
    "            display(Math(r'\\\\\\text{ не имеет решения потому что: }\\\\'))\n",
    "            print(resolved.message)\n",
    "            return None, None\n",
    "        print(\"x\")\n",
    "        print(resolved.x)\n",
    "        print(-resolved.fun)\n",
    "        number_to_round, idx = is_float_vector_2(resolved.x)\n",
    "        print(f\"number_to_round {number_to_round}\")\n",
    "        not_solution = bool(number_to_round)\n",
    "        if not not_solution:\n",
    "            break\n",
    "        basis, non_basis = get_basis_and_non_basis(resolved.x)\n",
    "        k, = np.where(basis == idx)\n",
    "        A_basis = A[:, basis]\n",
    "        print(A_basis)\n",
    "        inverse_A_basis = inverse(A_basis)\n",
    "        A_non_basis = A[:, non_basis]\n",
    "        \n",
    "        L = inverse_A_basis @ A_non_basis\n",
    "        print(\"L\")\n",
    "        print(L)\n",
    "        l = frac(L[k])\n",
    "        l = np.append(l, -1)\n",
    "        print(\"l\")\n",
    "        print(l)\n",
    "        print(A)\n",
    "        A = np.append(A, np.zeros(b.size).reshape(-1, 1), axis=1)\n",
    "        print(A)\n",
    "        l = get_new_condition(l, non_basis, c.size)\n",
    "        print(l)\n",
    "        A = np.append(A, [l], axis=0)\n",
    "        \n",
    "        b_i = number_to_round - math.floor(number_to_round)\n",
    "        b = np.append(b, b_i)\n",
    "        \n",
    "        c = np.append(c, 0)\n",
    "        \n",
    "        print(A)\n",
    "        print(b)\n",
    "        print(c)\n",
    "        return resolved.x[:need_size], -resolved.fun\n",
    "    return resolved.x[:need_size], -resolved.fun"
   ]
  },
  {
   "cell_type": "code",
   "execution_count": 11,
   "id": "72fb6f64",
   "metadata": {},
   "outputs": [],
   "source": [
    "A = np.array([\n",
    "    [-4, 6, 1, 0],\n",
    "    [1, 1, 0, 1]\n",
    "], \n",
    "    dtype=\"float32\"\n",
    ")\n",
    "b = np.array([9, 4], dtype=\"float32\")\n",
    "c = np.array([-1, 2, 0, 0], dtype=\"float32\")"
   ]
  },
  {
   "cell_type": "code",
   "execution_count": 12,
   "id": "0af8495b",
   "metadata": {},
   "outputs": [
    {
     "name": "stdout",
     "output_type": "stream",
     "text": [
      "x\n",
      "[ 4.  0. 25.  0.]\n",
      "4.000000000000001\n",
      "number_to_round None\n"
     ]
    },
    {
     "data": {
      "text/plain": [
       "(array([ 4.,  0., 25.,  0.]), 4.000000000000001)"
      ]
     },
     "execution_count": 12,
     "metadata": {},
     "output_type": "execute_result"
    }
   ],
   "source": [
    "solve(A, c, b)"
   ]
  },
  {
   "cell_type": "code",
   "execution_count": 13,
   "id": "aaffc0b8",
   "metadata": {},
   "outputs": [],
   "source": [
    "A = np.array([\n",
    "    [3, 2, 1, 0],\n",
    "    [-3, 2, 0, 1]\n",
    "], \n",
    "    dtype=\"float32\"\n",
    ")\n",
    "b = np.array([6, 0], dtype=\"float32\")\n",
    "c = np.array([0, 1, 0, 0], dtype=\"float32\")"
   ]
  },
  {
   "cell_type": "code",
   "execution_count": 14,
   "id": "8cc1f409",
   "metadata": {},
   "outputs": [
    {
     "name": "stdout",
     "output_type": "stream",
     "text": [
      "x\n",
      "[1.  1.5 0.  0. ]\n",
      "1.5\n",
      "(1.5, 1)\n",
      "number_to_round 1.5\n",
      "[[ 3.  2.]\n",
      " [-3.  2.]]\n",
      "L\n",
      "[[ 0.16666667 -0.16666667]\n",
      " [ 0.25        0.25      ]]\n",
      "[[0.25 0.25]]\n",
      "l\n",
      "[ 0.25  0.25 -1.  ]\n",
      "[[ 3.  2.  1.  0.]\n",
      " [-3.  2.  0.  1.]]\n",
      "[[ 3.  2.  1.  0.  0.]\n",
      " [-3.  2.  0.  1.  0.]]\n",
      "[ 0.    0.    0.25  0.25 -1.  ]\n",
      "[[ 3.    2.    1.    0.    0.  ]\n",
      " [-3.    2.    0.    1.    0.  ]\n",
      " [ 0.    0.    0.25  0.25 -1.  ]]\n",
      "[6.  0.  0.5]\n",
      "[-0. -1. -0. -0.  0.]\n"
     ]
    },
    {
     "data": {
      "text/plain": [
       "(array([1. , 1.5, 0. , 0. ]), 1.5)"
      ]
     },
     "execution_count": 14,
     "metadata": {},
     "output_type": "execute_result"
    }
   ],
   "source": [
    "solve(A, -c, b)"
   ]
  },
  {
   "cell_type": "code",
   "execution_count": 15,
   "id": "b4284127",
   "metadata": {},
   "outputs": [
    {
     "name": "stdout",
     "output_type": "stream",
     "text": [
      "{4, 5}\n"
     ]
    }
   ],
   "source": [
    "A_prime = np.concatenate((A, np.eye(A.shape[0])), axis=1)\n",
    "c_prime = np.concatenate((c, np.zeros(A.shape[0])), axis=0)\n",
    "initial_solution = np.array([0] * c.size + b.tolist())\n",
    "initial_basis = set(list(range(A_prime.shape[1]))) - set(list(range(A.shape[1])))\n",
    "print(initial_basis)"
   ]
  },
  {
   "cell_type": "code",
   "execution_count": null,
   "id": "4430783d",
   "metadata": {},
   "outputs": [],
   "source": []
  },
  {
   "cell_type": "code",
   "execution_count": 16,
   "id": "ba001b38",
   "metadata": {},
   "outputs": [
    {
     "data": {
      "text/plain": [
       "[0, 1, 2, 3, 4, 5, 6, 7, 8]"
      ]
     },
     "execution_count": 16,
     "metadata": {},
     "output_type": "execute_result"
    }
   ],
   "source": [
    "list(range(9))"
   ]
  },
  {
   "cell_type": "code",
   "execution_count": 17,
   "id": "7f194c9e",
   "metadata": {},
   "outputs": [],
   "source": [
    "initial_basis = np.argwhere(initial_solution != 0).ravel()"
   ]
  },
  {
   "cell_type": "code",
   "execution_count": 18,
   "id": "5ba2774d",
   "metadata": {},
   "outputs": [
    {
     "data": {
      "text/plain": [
       "array([4])"
      ]
     },
     "execution_count": 18,
     "metadata": {},
     "output_type": "execute_result"
    }
   ],
   "source": [
    "initial_basis"
   ]
  },
  {
   "cell_type": "code",
   "execution_count": 19,
   "id": "5e1f685f",
   "metadata": {},
   "outputs": [
    {
     "data": {
      "text/plain": [
       "array([[4]])"
      ]
     },
     "execution_count": 19,
     "metadata": {},
     "output_type": "execute_result"
    }
   ],
   "source": [
    "np.argwhere(initial_solution != 0)"
   ]
  },
  {
   "cell_type": "code",
   "execution_count": 20,
   "id": "f3a1bfb3",
   "metadata": {},
   "outputs": [],
   "source": [
    "c = np.array([-1, 2, 0, 0], dtype=\"float32\")"
   ]
  },
  {
   "cell_type": "code",
   "execution_count": null,
   "id": "34426182",
   "metadata": {},
   "outputs": [],
   "source": []
  }
 ],
 "metadata": {
  "kernelspec": {
   "display_name": "Python 3 (ipykernel)",
   "language": "python",
   "name": "python3"
  },
  "language_info": {
   "codemirror_mode": {
    "name": "ipython",
    "version": 3
   },
   "file_extension": ".py",
   "mimetype": "text/x-python",
   "name": "python",
   "nbconvert_exporter": "python",
   "pygments_lexer": "ipython3",
   "version": "3.7.5"
  }
 },
 "nbformat": 4,
 "nbformat_minor": 5
}
