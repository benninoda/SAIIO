{
 "cells": [
  {
   "cell_type": "markdown",
   "id": "62dd262a",
   "metadata": {},
   "source": [
    "1. Убираем у задачи условие целочисленности\n",
    "2. Решаем задачу симплекс методом\n",
    "3. Находим решение - если оно не целочисленное - проверяем лучше ли оно текущего решения\n",
    "4. если да - делим вещественную прямую на отрезки с окружающими его целочисленными значениями началом и концом отрезков\n",
    "5. записываем новые задачи с новыми условиями в стек"
   ]
  },
  {
   "cell_type": "code",
   "execution_count": 92,
   "id": "3d4f0ac6",
   "metadata": {},
   "outputs": [],
   "source": [
    "import scipy.optimize as opt\n",
    "import math\n",
    "import numpy as np\n",
    "\n",
    "from IPython.display import display, Math, Latex"
   ]
  },
  {
   "cell_type": "code",
   "execution_count": 96,
   "id": "0b8197fb",
   "metadata": {},
   "outputs": [],
   "source": [
    "def numpy_to_pmatrix(a):\n",
    "    lines = str(a).replace('[', '').replace(']', '').splitlines()\n",
    "    rv = [r'\\begin{pmatrix}']\n",
    "    rv += ['  ' + ' & '.join(l.split()) + r'\\\\' for l in lines]\n",
    "    rv +=  [r'\\end{pmatrix}']\n",
    "    return '\\n'.join(rv)"
   ]
  },
  {
   "cell_type": "code",
   "execution_count": 97,
   "id": "31c31a95",
   "metadata": {},
   "outputs": [],
   "source": [
    "def is_float_vector(x):\n",
    "    for idx, x_i in enumerate(x):\n",
    "        if int(x_i) != float(x_i):\n",
    "            return x_i, idx\n",
    "    else:\n",
    "        return None, None"
   ]
  },
  {
   "cell_type": "code",
   "execution_count": 156,
   "id": "e7dd2c49",
   "metadata": {},
   "outputs": [],
   "source": [
    "\n",
    "def solve(A, c, b, lower_bound, upper_bound, verbose=False):\n",
    "    \n",
    "    current_x = None\n",
    "    current_fun = float('-inf')\n",
    "    stack = [{'A': A, 'c': c, 'b': b, 'lower': lower_bound, 'upper': upper_bound}]\n",
    "    while stack:\n",
    "        ILP = stack.pop()\n",
    "        \n",
    "        resolved = opt.linprog(c=-ILP['c'], \n",
    "                               A_ub=ILP['A'], \n",
    "                               b_ub=ILP['b'], \n",
    "                               bounds=np.concatenate((ILP['lower'].reshape(-1, 1), \n",
    "                                                      ILP['upper'].reshape(-1, 1)), \n",
    "                                                     axis=1), \n",
    "                               method='simplex')\n",
    "        \n",
    "        if resolved.success == False:\n",
    "            display(Math(r'\\text{Данная задача ILP: }\\\\A = '  + numpy_to_pmatrix(ILP['A'])))\n",
    "            display(Math(r'b = '  + numpy_to_pmatrix(ILP['b'])))\n",
    "            display(Math(r'c = '  + numpy_to_pmatrix(ILP['c'])))\n",
    "            display(Math(r'lower bound = '  + numpy_to_pmatrix(ILP['lower'])))\n",
    "            display(Math(r'upper bound = '  + numpy_to_pmatrix(ILP['upper'])))\n",
    "            display(Math(r'\\\\\\text{потому что: }\\\\'))\n",
    "            print(resolved.message)\n",
    "            continue\n",
    "            \n",
    "        display(Math(r'\\text{О, мы нашли оптимальный план задачи: }'  + numpy_to_pmatrix(resolved.x)))\n",
    "        display(Math(r'\\text{Текущий максимум: }' + str(current_fun) + r'\\\\\\text{Максимум этой задачи: }' + str(-resolved.fun)))\n",
    "        number_to_round, idx = is_float_vector(resolved.x)\n",
    "        if number_to_round and current_fun < -resolved.fun:\n",
    "            low_copy = ILP['lower'].copy()\n",
    "            up_copy = ILP['upper'].copy()\n",
    "            low_copy[idx] = math.ceil(number_to_round) \n",
    "            up_copy[idx] = math.floor(number_to_round)\n",
    "            \n",
    "            stack.append({'A': A, 'c': c, 'b': b, 'lower': low_copy, 'upper': ILP['upper']})\n",
    "            stack.append({'A': A, 'c': c, 'b': b, 'lower': ILP['lower'], 'upper': up_copy})\n",
    "            \n",
    "        else:\n",
    "            if current_fun < -resolved.fun:\n",
    "                display(Math(r'\\text{О, целочисленное решение, ура! }\\\\x_{max}='  + str(-resolved.fun) +\n",
    "                             r'\\\\\\text{Лучший план}' + numpy_to_pmatrix(resolved.x)))\n",
    "                current_fun = -resolved.fun\n",
    "                current_x = resolved.x\n",
    "    display(Math(r'\\text{Стек задач пуст}'))\n",
    "    return current_x, current_fun\n",
    "            \n",
    "        \n",
    "        "
   ]
  },
  {
   "cell_type": "code",
   "execution_count": 157,
   "id": "7be21468",
   "metadata": {},
   "outputs": [],
   "source": [
    "A = np.array(\n",
    "    [\n",
    "        [4, 3],\n",
    "        [-4, 3]\n",
    "    ], dtype=\"float64\",)\n",
    "b = np.array([22, 2], dtype=\"float64\")\n",
    "c = np.array([-5, 4], dtype=\"float64\")\n",
    "lower_bound = np.array([1, 0], dtype=\"float64\")\n",
    "upper_bound = np.array([4, 5], dtype=\"float64\")\n",
    "\n",
    "A_prime = np.concatenate((A, np.eye(A.shape[0])), axis=1)\n",
    "c_prime = np.concatenate((c, np.zeros(A.shape[0])), axis=0)"
   ]
  },
  {
   "cell_type": "code",
   "execution_count": 158,
   "id": "03a18927",
   "metadata": {},
   "outputs": [
    {
     "data": {
      "text/latex": [
       "$\\displaystyle \\text{О, мы нашли оптимальный план задачи: }\\begin{pmatrix}\n",
       "  2.5 & 4.\\\\\n",
       "\\end{pmatrix}$"
      ],
      "text/plain": [
       "<IPython.core.display.Math object>"
      ]
     },
     "metadata": {},
     "output_type": "display_data"
    },
    {
     "data": {
      "text/latex": [
       "$\\displaystyle \\text{Текущий максимум: }-inf\\\\\\text{Максимум этой задачи: }3.5$"
      ],
      "text/plain": [
       "<IPython.core.display.Math object>"
      ]
     },
     "metadata": {},
     "output_type": "display_data"
    },
    {
     "data": {
      "text/latex": [
       "$\\displaystyle \\text{О, мы нашли оптимальный план задачи: }\\begin{pmatrix}\n",
       "  2. & 3.33333333\\\\\n",
       "\\end{pmatrix}$"
      ],
      "text/plain": [
       "<IPython.core.display.Math object>"
      ]
     },
     "metadata": {},
     "output_type": "display_data"
    },
    {
     "data": {
      "text/latex": [
       "$\\displaystyle \\text{Текущий максимум: }-inf\\\\\\text{Максимум этой задачи: }3.333333333333332$"
      ],
      "text/plain": [
       "<IPython.core.display.Math object>"
      ]
     },
     "metadata": {},
     "output_type": "display_data"
    },
    {
     "data": {
      "text/latex": [
       "$\\displaystyle \\text{О, мы нашли оптимальный план задачи: }\\begin{pmatrix}\n",
       "  1.75 & 3.\\\\\n",
       "\\end{pmatrix}$"
      ],
      "text/plain": [
       "<IPython.core.display.Math object>"
      ]
     },
     "metadata": {},
     "output_type": "display_data"
    },
    {
     "data": {
      "text/latex": [
       "$\\displaystyle \\text{Текущий максимум: }-inf\\\\\\text{Максимум этой задачи: }3.25$"
      ],
      "text/plain": [
       "<IPython.core.display.Math object>"
      ]
     },
     "metadata": {},
     "output_type": "display_data"
    },
    {
     "data": {
      "text/latex": [
       "$\\displaystyle \\text{О, мы нашли оптимальный план задачи: }\\begin{pmatrix}\n",
       "  1. & 2.\\\\\n",
       "\\end{pmatrix}$"
      ],
      "text/plain": [
       "<IPython.core.display.Math object>"
      ]
     },
     "metadata": {},
     "output_type": "display_data"
    },
    {
     "data": {
      "text/latex": [
       "$\\displaystyle \\text{Текущий максимум: }-inf\\\\\\text{Максимум этой задачи: }3.0$"
      ],
      "text/plain": [
       "<IPython.core.display.Math object>"
      ]
     },
     "metadata": {},
     "output_type": "display_data"
    },
    {
     "data": {
      "text/latex": [
       "$\\displaystyle \\text{О, целочисленное решение, ура! }\\\\x_{max}=3.0\\\\\\text{Лучший план}\\begin{pmatrix}\n",
       "  1. & 2.\\\\\n",
       "\\end{pmatrix}$"
      ],
      "text/plain": [
       "<IPython.core.display.Math object>"
      ]
     },
     "metadata": {},
     "output_type": "display_data"
    },
    {
     "data": {
      "text/latex": [
       "$\\displaystyle \\text{О, мы нашли оптимальный план задачи: }\\begin{pmatrix}\n",
       "  2. & 3.\\\\\n",
       "\\end{pmatrix}$"
      ],
      "text/plain": [
       "<IPython.core.display.Math object>"
      ]
     },
     "metadata": {},
     "output_type": "display_data"
    },
    {
     "data": {
      "text/latex": [
       "$\\displaystyle \\text{Текущий максимум: }3.0\\\\\\text{Максимум этой задачи: }2.0$"
      ],
      "text/plain": [
       "<IPython.core.display.Math object>"
      ]
     },
     "metadata": {},
     "output_type": "display_data"
    },
    {
     "data": {
      "text/latex": [
       "$\\displaystyle \\text{Данная задача ILP: }\\\\A = \\begin{pmatrix}\n",
       "  4. & 3.\\\\\n",
       "  -4. & 3.\\\\\n",
       "\\end{pmatrix}$"
      ],
      "text/plain": [
       "<IPython.core.display.Math object>"
      ]
     },
     "metadata": {},
     "output_type": "display_data"
    },
    {
     "data": {
      "text/latex": [
       "$\\displaystyle b = \\begin{pmatrix}\n",
       "  22. & 2.\\\\\n",
       "\\end{pmatrix}$"
      ],
      "text/plain": [
       "<IPython.core.display.Math object>"
      ]
     },
     "metadata": {},
     "output_type": "display_data"
    },
    {
     "data": {
      "text/latex": [
       "$\\displaystyle c = \\begin{pmatrix}\n",
       "  -5. & 4.\\\\\n",
       "\\end{pmatrix}$"
      ],
      "text/plain": [
       "<IPython.core.display.Math object>"
      ]
     },
     "metadata": {},
     "output_type": "display_data"
    },
    {
     "data": {
      "text/latex": [
       "$\\displaystyle lower bound = \\begin{pmatrix}\n",
       "  1. & 4.\\\\\n",
       "\\end{pmatrix}$"
      ],
      "text/plain": [
       "<IPython.core.display.Math object>"
      ]
     },
     "metadata": {},
     "output_type": "display_data"
    },
    {
     "data": {
      "text/latex": [
       "$\\displaystyle upper bound = \\begin{pmatrix}\n",
       "  2. & 5.\\\\\n",
       "\\end{pmatrix}$"
      ],
      "text/plain": [
       "<IPython.core.display.Math object>"
      ]
     },
     "metadata": {},
     "output_type": "display_data"
    },
    {
     "data": {
      "text/latex": [
       "$\\displaystyle \\\\\\text{потому что: }\\\\$"
      ],
      "text/plain": [
       "<IPython.core.display.Math object>"
      ]
     },
     "metadata": {},
     "output_type": "display_data"
    },
    {
     "name": "stdout",
     "output_type": "stream",
     "text": [
      "Phase 1 of the simplex method failed to find a feasible solution. The pseudo-objective function evaluates to 2.0e+00 which exceeds the required tolerance of 1e-09 for a solution to be considered 'close enough' to zero to be a basic solution. Consider increasing the tolerance to be greater than 2.0e+00. If this tolerance is unacceptably  large the problem may be infeasible.\n"
     ]
    },
    {
     "data": {
      "text/latex": [
       "$\\displaystyle \\text{О, мы нашли оптимальный план задачи: }\\begin{pmatrix}\n",
       "  3. & 3.33333333\\\\\n",
       "\\end{pmatrix}$"
      ],
      "text/plain": [
       "<IPython.core.display.Math object>"
      ]
     },
     "metadata": {},
     "output_type": "display_data"
    },
    {
     "data": {
      "text/latex": [
       "$\\displaystyle \\text{Текущий максимум: }3.0\\\\\\text{Максимум этой задачи: }-1.666666666666666$"
      ],
      "text/plain": [
       "<IPython.core.display.Math object>"
      ]
     },
     "metadata": {},
     "output_type": "display_data"
    },
    {
     "data": {
      "text/latex": [
       "$\\displaystyle \\text{Стек задач пуст}$"
      ],
      "text/plain": [
       "<IPython.core.display.Math object>"
      ]
     },
     "metadata": {},
     "output_type": "display_data"
    },
    {
     "data": {
      "text/latex": [
       "$\\displaystyle \\text{Текущий максимум: }3.0\\\\\\text{Лучший план: }\\begin{pmatrix}\n",
       "  1. & 2.\\\\\n",
       "\\end{pmatrix}$"
      ],
      "text/plain": [
       "<IPython.core.display.Math object>"
      ]
     },
     "metadata": {},
     "output_type": "display_data"
    }
   ],
   "source": [
    "current_x, current_fun = solve(A, c, b, lower_bound, upper_bound)\n",
    "display(Math(r'\\text{Текущий максимум: }' + str(current_fun) + r'\\\\\\text{Лучший план: }' + numpy_to_pmatrix(current_x)))"
   ]
  },
  {
   "cell_type": "code",
   "execution_count": null,
   "id": "2a9dc9ad",
   "metadata": {},
   "outputs": [],
   "source": []
  },
  {
   "cell_type": "code",
   "execution_count": null,
   "id": "d52161f6",
   "metadata": {},
   "outputs": [],
   "source": []
  },
  {
   "cell_type": "code",
   "execution_count": null,
   "id": "119983b3",
   "metadata": {},
   "outputs": [],
   "source": []
  }
 ],
 "metadata": {
  "kernelspec": {
   "display_name": "Python 3 (ipykernel)",
   "language": "python",
   "name": "python3"
  },
  "language_info": {
   "codemirror_mode": {
    "name": "ipython",
    "version": 3
   },
   "file_extension": ".py",
   "mimetype": "text/x-python",
   "name": "python",
   "nbconvert_exporter": "python",
   "pygments_lexer": "ipython3",
   "version": "3.7.5"
  }
 },
 "nbformat": 4,
 "nbformat_minor": 5
}
