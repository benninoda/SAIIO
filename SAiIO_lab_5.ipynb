{
 "cells": [
  {
   "cell_type": "code",
   "execution_count": 4,
   "id": "ef0ade43",
   "metadata": {},
   "outputs": [],
   "source": [
    "import copy"
   ]
  },
  {
   "cell_type": "code",
   "execution_count": 11,
   "id": "0617e91a",
   "metadata": {},
   "outputs": [],
   "source": [
    "class FordFolkersonMethodSolver:\n",
    "    def __init__(self, edges):\n",
    "        self.main_graph = copy.deepcopy(edges)\n",
    "        self.auxiliary_graph = copy.deepcopy(edges)\n",
    "        self.create_auxuliary_graph()\n",
    "        self.main_graph = copy.deepcopy(self.auxiliary_graph)\n",
    "        self.add_current_flow_to_main_graph()\n",
    "        print(f\"{self.main_graph} self.main_graphf\")\n",
    "        print(f\"{self.auxiliary_graph} self.auxiliary_graph\")\n",
    "        \n",
    "    def add_current_flow_to_main_graph(self):\n",
    "        for node, edges in self.main_graph.items():\n",
    "            for edge_flow in edges.values():\n",
    "                edge_flow.append(0)\n",
    "                  \n",
    "    def create_auxuliary_graph(self):\n",
    "        for node, edges in self.main_graph.items():\n",
    "            for edge in edges:\n",
    "                if not self.main_graph.get(edge).get(node):\n",
    "                    self.auxiliary_graph[edge][node] = [0]\n",
    "                    \n",
    "    def get_divergence(self):\n",
    "        a_plus = sum([edge[1] for edge in self.main_graph.get('s').values()])\n",
    "        a_minus = sum([edges.get('s')[1] if edges.get('s') else 0 for edges in self.main_graph.values()])\n",
    "        return a_plus - a_minus\n",
    "    \n",
    "    def update_auxiliary_graph(self, path):\n",
    "        for edge in path:\n",
    "            self.auxiliary_graph[edge[0]][edge[1]] = [(self.main_graph.get(edge[0]).get(edge[1])[0] - \n",
    "                                                       self.main_graph.get(edge[0]).get(edge[1])[1] + \n",
    "                                                       self.main_graph.get(edge[1]).get(edge[0])[1])]\n",
    "            self.auxiliary_graph[edge[1]][edge[0]] = [(self.main_graph.get(edge[1]).get(edge[0])[0] -\n",
    "                                                       self.main_graph.get(edge[1]).get(edge[0])[1] + \n",
    "                                                       self.main_graph.get(edge[0]).get(edge[1])[1])]\n",
    "        print(f\"{self.auxiliary_graph} self.auxiliary_graph\")\n",
    "        \n",
    "    def solve(self):\n",
    "        path = self.bfs()\n",
    "        while path:\n",
    "            theta = min([self.auxiliary_graph.get(edge[0]).get(edge[1])[0] for edge in path]) # theta\n",
    "            print(f\"path {path}\")\n",
    "            print(f\"min {theta}\")\n",
    "            for edge in path:\n",
    "                flow_in_path, flow_not_in_path = self.get_flows(theta, edge, path)\n",
    "                self.main_graph.get(edge[0]).get(edge[1])[1] = flow_in_path \n",
    "                self.main_graph.get(edge[1]).get(edge[0])[1] = flow_not_in_path \n",
    "            print(f\"{self.main_graph} self.main_graphh\")\n",
    "            self.update_auxiliary_graph(path)\n",
    "            path = self.bfs()\n",
    "        return self.get_divergence()\n",
    "    \n",
    "    def get_flows(self, theta, edge, path):\n",
    "        edge_in_path_flow = max([0, (self.main_graph.get(edge[0]).get(edge[1])[1] -\n",
    "                                     self.main_graph.get(edge[0]).get(edge[1])[1] +\n",
    "                                     theta - 0)])\n",
    "        edge_not_in_path_flow = max([0, (self.main_graph.get(edge[0]).get(edge[1])[1] -\n",
    "                                         self.main_graph.get(edge[0]).get(edge[1])[1] +\n",
    "                                         0 - theta)])\n",
    "        return edge_in_path_flow, edge_not_in_path_flow\n",
    "    \n",
    "    def bfs(self):\n",
    "        Q = ['s']\n",
    "        current_node = None\n",
    "        l = {'s': None}\n",
    "        while Q and current_node != 't':\n",
    "            current_node = Q.pop(0)\n",
    "            edges = self.auxiliary_graph.get(current_node)\n",
    "            for edge, flows in edges.items():\n",
    "                if edge not in l and flows[0]:\n",
    "                    l[edge] = current_node\n",
    "                    Q.append(edge)\n",
    "        if current_node == 't':\n",
    "            path = []\n",
    "            while current_node != 's':\n",
    "                prev_node = current_node\n",
    "                current_node = l.get(current_node)\n",
    "                path.append((current_node, prev_node))\n",
    "            path.reverse()\n",
    "            return path\n",
    "        \n",
    "        return None\n",
    "                \n",
    "        \n",
    "                \n",
    "                "
   ]
  },
  {
   "cell_type": "code",
   "execution_count": 14,
   "id": "fc336679",
   "metadata": {},
   "outputs": [],
   "source": [
    "Edges = {\n",
    "    's': {'a': [3], 'b': [2]},\n",
    "    'a': {'b': [2], 't': [1]},\n",
    "    'b': {'t': [2]},\n",
    "    't': {}\n",
    "}"
   ]
  },
  {
   "cell_type": "code",
   "execution_count": 15,
   "id": "d09b164e",
   "metadata": {},
   "outputs": [
    {
     "name": "stdout",
     "output_type": "stream",
     "text": [
      "{'s': {'a': [3, 0], 'b': [2, 0]}, 'a': {'b': [2, 0], 't': [1, 0], 's': [0, 0]}, 'b': {'t': [2, 0], 's': [0, 0], 'a': [0, 0]}, 't': {'a': [0, 0], 'b': [0, 0]}} self.main_graphf\n",
      "{'s': {'a': [3], 'b': [2]}, 'a': {'b': [2], 't': [1], 's': [0]}, 'b': {'t': [2], 's': [0], 'a': [0]}, 't': {'a': [0], 'b': [0]}} self.auxiliary_graph\n",
      "path [('s', 'a'), ('a', 't')]\n",
      "min 1\n",
      "{'s': {'a': [3, 1], 'b': [2, 0]}, 'a': {'b': [2, 0], 't': [1, 1], 's': [0, 0]}, 'b': {'t': [2, 0], 's': [0, 0], 'a': [0, 0]}, 't': {'a': [0, 0], 'b': [0, 0]}} self.main_graphh\n",
      "{'s': {'a': [2], 'b': [2]}, 'a': {'b': [2], 't': [0], 's': [1]}, 'b': {'t': [2], 's': [0], 'a': [0]}, 't': {'a': [1], 'b': [0]}} self.auxiliary_graph\n",
      "path [('s', 'b'), ('b', 't')]\n",
      "min 2\n",
      "{'s': {'a': [3, 1], 'b': [2, 2]}, 'a': {'b': [2, 0], 't': [1, 1], 's': [0, 0]}, 'b': {'t': [2, 2], 's': [0, 0], 'a': [0, 0]}, 't': {'a': [0, 0], 'b': [0, 0]}} self.main_graphh\n",
      "{'s': {'a': [2], 'b': [0]}, 'a': {'b': [2], 't': [0], 's': [1]}, 'b': {'t': [0], 's': [2], 'a': [0]}, 't': {'a': [1], 'b': [2]}} self.auxiliary_graph\n"
     ]
    },
    {
     "data": {
      "text/plain": [
       "3"
      ]
     },
     "execution_count": 15,
     "metadata": {},
     "output_type": "execute_result"
    }
   ],
   "source": [
    "solver = FordFolkersonMethodSolver(Edges).solve()\n",
    "solver"
   ]
  },
  {
   "cell_type": "code",
   "execution_count": null,
   "id": "d8406246",
   "metadata": {},
   "outputs": [],
   "source": []
  },
  {
   "cell_type": "code",
   "execution_count": null,
   "id": "ff09dc5c",
   "metadata": {},
   "outputs": [],
   "source": []
  }
 ],
 "metadata": {
  "kernelspec": {
   "display_name": "Python 3 (ipykernel)",
   "language": "python",
   "name": "python3"
  },
  "language_info": {
   "codemirror_mode": {
    "name": "ipython",
    "version": 3
   },
   "file_extension": ".py",
   "mimetype": "text/x-python",
   "name": "python",
   "nbconvert_exporter": "python",
   "pygments_lexer": "ipython3",
   "version": "3.7.5"
  }
 },
 "nbformat": 4,
 "nbformat_minor": 5
}
