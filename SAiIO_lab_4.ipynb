{
 "cells": [
  {
   "cell_type": "code",
   "execution_count": 1,
   "id": "dc23b670",
   "metadata": {},
   "outputs": [],
   "source": [
    "import numpy as np\n",
    "from collections import defaultdict"
   ]
  },
  {
   "cell_type": "code",
   "execution_count": 2,
   "id": "91b16d0d",
   "metadata": {},
   "outputs": [],
   "source": [
    "class Graph:\n",
    "    def __init__(self, edges):\n",
    "        self.edges = edges.copy()\n",
    "        self.rev_edges = self.get_reverse_edges()\n",
    "        \n",
    "    def get_reverse_edges(self):\n",
    "        rev_edges = {node: [] for node in self.edges}\n",
    "        for node_from, nodes_to in self.edges.items():\n",
    "            for node in nodes_to:\n",
    "                rev_edges[node[0]].append((node_from, node[1]))\n",
    "        return rev_edges"
   ]
  },
  {
   "cell_type": "code",
   "execution_count": 13,
   "id": "91a28c25",
   "metadata": {},
   "outputs": [],
   "source": [
    "def topologicSortDFS2(edges):\n",
    "    stack = []\n",
    "    colors = dict()\n",
    "    for i in edges.keys():\n",
    "        colors[i]=0\n",
    "    def topological_sort():\n",
    "        def dfs(v):\n",
    "# Если вершина серая, то мы обнаружили цикл. \n",
    "# Заканчиваем поиск в глубину.\n",
    "            if colors[v] == 1: \n",
    "                return True\n",
    "            if colors[v] == 2: \n",
    "                return False # Если вершина черная, то заканчиваем ее обработку.\n",
    "            colors[v] = 1 # Красим вершину в серый цвет.\n",
    "# Обрабатываем список смежных с ней вершин.\n",
    "            for i in range(len(edges[v])):\n",
    "                if dfs(edges[v][i][0]): \n",
    "                    return True\n",
    "            stack.append(v) # Кладем вершину в стек.\n",
    "            colors[v] = 2 # Красим вершину в черный цвет.\n",
    "            return False\n",
    "        \n",
    "# Вызывается обход в глубину от всех вершин. \n",
    "# Заканчиваем работу алгоритма, если обнаружен цикл.\n",
    "        for i in edges.keys():\n",
    "            has_cycle = dfs(i)\n",
    "            if has_cycle: \n",
    "                raise Exception(f\"Topological sorting is not possible: graph has cycles from {i}\")\n",
    "                                   \n",
    "#Заносим в массив новые номера вершин.    \n",
    "        stack.reverse()\n",
    "        return stack\n",
    "    return topological_sort()"
   ]
  },
  {
   "cell_type": "code",
   "execution_count": 14,
   "id": "0f1d6dc5",
   "metadata": {},
   "outputs": [],
   "source": [
    "def solve(graph, topsort_nodes, s, t):\n",
    "    \n",
    "    s_index = topsort_nodes.index(s)\n",
    "    t_index = topsort_nodes.index(t)\n",
    "    \n",
    "    if s_index > t_index:\n",
    "        return None, \"No solution\"\n",
    "    \n",
    "    if s_index == t_index:\n",
    "        return 0, np.array([s, t])\n",
    "    \n",
    "    topsort_nodes_check = topsort_nodes[s_index:t_index + 1]\n",
    "    link_dict = {node: None for node in topsort_nodes_check}\n",
    "    paths_dict = {node: -np.inf for node in topsort_nodes_check}\n",
    "    \n",
    "    paths_dict[s] = 0\n",
    "    for node in topsort_nodes_check[1:]:\n",
    "        nodes_weights = {}\n",
    "        print(f\"Node {node}\")\n",
    "        for node_from in graph.get(node):\n",
    "            if node_from[0] not in topsort_nodes_check:\n",
    "                continue\n",
    "            nodes_weights[paths_dict[node_from[0]] + node_from[1]] = node_from\n",
    "        max_weight = max(nodes_weights) if nodes_weights else -np.inf\n",
    "        paths_dict[node] = max_weight\n",
    "        link_dict[node] = nodes_weights.get(max_weight)[0] if max_weight != -np.inf else None\n",
    "    \n",
    "    end_point = t\n",
    "    path = [t]\n",
    "    while end_point != s:\n",
    "        end_point = link_dict.get(end_point)\n",
    "        path.append(end_point)\n",
    "        \n",
    "    path.reverse()\n",
    "    print(paths_dict)\n",
    "    print(link_dict)\n",
    "    return paths_dict.get(t),  path\n",
    "            \n",
    "        \n",
    "        \n",
    "        "
   ]
  },
  {
   "cell_type": "code",
   "execution_count": 15,
   "id": "47cbeb70",
   "metadata": {},
   "outputs": [
    {
     "data": {
      "text/plain": [
       "{'s': [],\n",
       " 'a': [('s', 2)],\n",
       " 'c': [('s', 1), ('a', 2)],\n",
       " 'b': [('a', 1), ('d', 2)],\n",
       " 'd': [('c', 1)],\n",
       " 't': [('b', 1), ('d', 1)]}"
      ]
     },
     "execution_count": 15,
     "metadata": {},
     "output_type": "execute_result"
    }
   ],
   "source": [
    "Edges = {\n",
    "    's': [('a', 2), ('c', 1)], \n",
    "    'a': [('b', 1), ('c', 2)], \n",
    "    'c': [('d', 1)], \n",
    "    'b': [('t', 1)],\n",
    "    'd': [('b', 2), ('t', 1)],\n",
    "    't': []\n",
    "}\n",
    "graph = Graph(Edges)\n",
    "graph.rev_edges"
   ]
  },
  {
   "cell_type": "code",
   "execution_count": 16,
   "id": "0cae82a0",
   "metadata": {},
   "outputs": [
    {
     "data": {
      "text/plain": [
       "['s', 'a', 'c', 'd', 'b', 't']"
      ]
     },
     "execution_count": 16,
     "metadata": {},
     "output_type": "execute_result"
    }
   ],
   "source": [
    "topsort_nodes = topologicSortDFS2(graph.edges)\n",
    "topsort_nodes"
   ]
  },
  {
   "cell_type": "code",
   "execution_count": 17,
   "id": "40e9dbdb",
   "metadata": {},
   "outputs": [
    {
     "name": "stdout",
     "output_type": "stream",
     "text": [
      "Node a\n",
      "Node c\n",
      "Node d\n",
      "Node b\n",
      "Node t\n",
      "{'s': 0, 'a': 2, 'c': 4, 'd': 5, 'b': 7, 't': 8}\n",
      "{'s': None, 'a': 's', 'c': 'a', 'd': 'c', 'b': 'd', 't': 'b'}\n"
     ]
    },
    {
     "data": {
      "text/plain": [
       "(8, ['s', 'a', 'c', 'd', 'b', 't'])"
      ]
     },
     "execution_count": 17,
     "metadata": {},
     "output_type": "execute_result"
    }
   ],
   "source": [
    "solve(graph.rev_edges, topsort_nodes, 's', 't')"
   ]
  },
  {
   "cell_type": "code",
   "execution_count": 30,
   "id": "aaacede1",
   "metadata": {},
   "outputs": [
    {
     "data": {
      "text/plain": [
       "{'s': [], 'a': [], 'b': [], 't': []}"
      ]
     },
     "execution_count": 30,
     "metadata": {},
     "output_type": "execute_result"
    }
   ],
   "source": [
    "Edges = {\n",
    "    's': [], \n",
    "    'a': [], \n",
    "    'b': [],\n",
    "    't': []\n",
    "}\n",
    "graph = Graph(Edges)\n",
    "graph.rev_edges"
   ]
  },
  {
   "cell_type": "code",
   "execution_count": 31,
   "id": "f1c4e563",
   "metadata": {},
   "outputs": [
    {
     "data": {
      "text/plain": [
       "['t', 'b', 'a', 's']"
      ]
     },
     "execution_count": 31,
     "metadata": {},
     "output_type": "execute_result"
    }
   ],
   "source": [
    "topsort_nodes = topologicSortDFS2(graph.edges)\n",
    "topsort_nodes"
   ]
  },
  {
   "cell_type": "code",
   "execution_count": 32,
   "id": "b0a3bd5f",
   "metadata": {},
   "outputs": [
    {
     "data": {
      "text/plain": [
       "(None, 'No solution')"
      ]
     },
     "execution_count": 32,
     "metadata": {},
     "output_type": "execute_result"
    }
   ],
   "source": [
    "solve(graph.rev_edges, topsort_nodes, 's', 't')"
   ]
  },
  {
   "cell_type": "code",
   "execution_count": null,
   "id": "8d9e4079",
   "metadata": {},
   "outputs": [],
   "source": []
  }
 ],
 "metadata": {
  "kernelspec": {
   "display_name": "Python 3 (ipykernel)",
   "language": "python",
   "name": "python3"
  },
  "language_info": {
   "codemirror_mode": {
    "name": "ipython",
    "version": 3
   },
   "file_extension": ".py",
   "mimetype": "text/x-python",
   "name": "python",
   "nbconvert_exporter": "python",
   "pygments_lexer": "ipython3",
   "version": "3.7.5"
  }
 },
 "nbformat": 4,
 "nbformat_minor": 5
}
