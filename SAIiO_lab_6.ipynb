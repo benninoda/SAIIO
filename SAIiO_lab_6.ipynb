{
 "cells": [
  {
   "cell_type": "code",
   "execution_count": 193,
   "id": "69ed15d0",
   "metadata": {},
   "outputs": [],
   "source": [
    "import numpy as np\n",
    "import copy\n",
    "import heapq"
   ]
  },
  {
   "cell_type": "code",
   "execution_count": 204,
   "id": "b303e986",
   "metadata": {},
   "outputs": [],
   "source": [
    "class AlgorithmDijkstra:\n",
    "    def __init__(self, graph, initial_vertex):\n",
    "        self.graph = copy.deepcopy(graph)\n",
    "        self.min_paths = {key: np.inf for key in graph}\n",
    "        self.min_paths[initial_vertex] = 0\n",
    "        self.paths = {key: None for key in graph}\n",
    "        self.q = []\n",
    "        self.initial_vertex = initial_vertex\n",
    "    \n",
    "    def solve(self):\n",
    "        vertex_data = [self.initial_vertex, 0]\n",
    "        heapq.heappush(self.q, (vertex_data[1], vertex_data[0], self.initial_vertex))\n",
    "        while self.q:\n",
    "            current_weight, name, current_vertex = heapq.heappop(self.q)\n",
    "            if current_weight > self.min_paths.get(name):\n",
    "                continue\n",
    "            for vertex in self.graph.get(name):\n",
    "                if current_weight + vertex[1] < self.min_paths.get(vertex[0]):\n",
    "                    vertex_data = [vertex[0], current_weight + vertex[1]]\n",
    "                    self.min_paths[vertex[0]] = vertex_data[1]\n",
    "                    self.paths[vertex[0]] = name\n",
    "                    heapq.heappush(self.q, (vertex_data[1], vertex_data[0], vertex))\n",
    "        return self.min_paths, self.paths"
   ]
  },
  {
   "cell_type": "code",
   "execution_count": 205,
   "id": "791f39f3",
   "metadata": {},
   "outputs": [],
   "source": [
    "graph = {\n",
    "    's': [('a', 2)], \n",
    "    'a': [('c', 13), ('t', 6)], \n",
    "    'c': [],\n",
    "    't': [('c', 1)]\n",
    "}"
   ]
  },
  {
   "cell_type": "code",
   "execution_count": 206,
   "id": "3e718f8d",
   "metadata": {},
   "outputs": [],
   "source": [
    "algo = AlgorithmDijkstra(graph, 'a')"
   ]
  },
  {
   "cell_type": "code",
   "execution_count": 207,
   "id": "e04bde87",
   "metadata": {},
   "outputs": [
    {
     "data": {
      "text/plain": [
       "({'s': inf, 'a': 0, 'c': 7, 't': 6},\n",
       " {'s': None, 'a': None, 'c': 't', 't': 'a'})"
      ]
     },
     "execution_count": 207,
     "metadata": {},
     "output_type": "execute_result"
    }
   ],
   "source": [
    "algo.solve()"
   ]
  },
  {
   "cell_type": "code",
   "execution_count": 208,
   "id": "d50f3f85",
   "metadata": {},
   "outputs": [],
   "source": [
    "graph2 = {\n",
    "    's': [('a', 1), ('b', 4)], \n",
    "    'a': [('b', 2)], \n",
    "    'b': [('a', 3), ('t', 1)],\n",
    "    't': []\n",
    "}"
   ]
  },
  {
   "cell_type": "code",
   "execution_count": 209,
   "id": "574907e9",
   "metadata": {},
   "outputs": [],
   "source": [
    "algo2 = AlgorithmDijkstra(graph2, 's')"
   ]
  },
  {
   "cell_type": "code",
   "execution_count": 211,
   "id": "72fa7cc2",
   "metadata": {},
   "outputs": [
    {
     "data": {
      "text/plain": [
       "({'s': 0, 'a': 1, 'b': 3, 't': 4}, {'s': None, 'a': 's', 'b': 'a', 't': 'b'})"
      ]
     },
     "execution_count": 211,
     "metadata": {},
     "output_type": "execute_result"
    }
   ],
   "source": [
    "algo2.solve()"
   ]
  },
  {
   "cell_type": "code",
   "execution_count": null,
   "id": "b1d2f0c2",
   "metadata": {},
   "outputs": [],
   "source": []
  }
 ],
 "metadata": {
  "kernelspec": {
   "display_name": "Python 3 (ipykernel)",
   "language": "python",
   "name": "python3"
  },
  "language_info": {
   "codemirror_mode": {
    "name": "ipython",
    "version": 3
   },
   "file_extension": ".py",
   "mimetype": "text/x-python",
   "name": "python",
   "nbconvert_exporter": "python",
   "pygments_lexer": "ipython3",
   "version": "3.7.5"
  }
 },
 "nbformat": 4,
 "nbformat_minor": 5
}
